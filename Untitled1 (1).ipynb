{
  "nbformat": 4,
  "nbformat_minor": 0,
  "metadata": {
    "colab": {
      "name": "Untitled1.ipynb",
      "provenance": []
    },
    "kernelspec": {
      "name": "python3",
      "display_name": "Python 3"
    },
    "language_info": {
      "name": "python"
    }
  },
  "cells": [
    {
      "cell_type": "code",
      "execution_count": 1,
      "metadata": {
        "id": "ZWEAx1sZeVdB"
      },
      "outputs": [],
      "source": [
        "import json\n",
        "import time\n",
        "import hashlib"
      ]
    },
    {
      "cell_type": "code",
      "source": [
        "class Block():\n",
        "\n",
        "    def __init__(self,\n",
        "                 index=0,\n",
        "                 transactions=[],\n",
        "                 timestamp=0,\n",
        "                 current_hash=\"\",\n",
        "                 pervious_hash=\"\",\n",
        "                 nonce=0,):\n",
        "        self.index = index\n",
        "        self.transactions = transactions\n",
        "        self.timestamp = timestamp\n",
        "        self.current_hash = current_hash\n",
        "        self.pervious_hash = pervious_hash\n",
        "        self.nonce = nonce\n",
        "        \n",
        "    def compute_hash(self):\n",
        "        block_string = json.dumps(self.__dict__, sort_keys=True)\n",
        "        return hashlib.sha256(block_string.encode()).hexdigest()"
      ],
      "metadata": {
        "id": "6n9uciWmeYHh"
      },
      "execution_count": 2,
      "outputs": []
    },
    {
      "cell_type": "code",
      "source": [
        "class Blockchain:\n",
        "\n",
        "    def __init__(self):\n",
        "        self.unconfirmed_transactions = []\n",
        "        self.difficulty = 2\n",
        "        self.chain = []\n",
        "        self.create_genesis_block()\n",
        "\n",
        "    def create_genesis_block(self):\n",
        "        genesis_block = Block(0, [], time.time(), \"0\")\n",
        "        genesis_block.hash = genesis_block.compute_hash()\n",
        "        self.chain.append(genesis_block)\n",
        "\n",
        "    # todo define get_last_block(self) -> Block, hint: consider an index to\n",
        "    # the last element in your chain property.\n",
        "    #\n",
        "    def get_last_block(self):\n",
        "        return self.chain[-1]\n",
        "\n",
        "    # todo define proof_of_work(self, block:Block) -> str,\n",
        "    # hint consider something similar to:\n",
        "    # computed_hash = how do we get the hash from a Block object?\n",
        "    # while not computed_hash.startswith('0' * Blockchain.difficulty):\n",
        "    #         block.nonce += 1\n",
        "    #         computed_hash = block.compute_hash()\n",
        "    # Don't forget to return the hash.\n",
        "    #\n",
        "\n",
        "    def proof_of_work(self, block):\n",
        "        computed_hash = block.compute_hash()\n",
        "        while not computed_hash.startswith(\"0\" * self.difficulty):\n",
        "            block.nonce += 1\n",
        "            computed_hash = block.compute_hash()\n",
        "        return computed_hash\n",
        "\n",
        "    # todo define is_valid_proof(self, block:Block, block_hash:str) -> bool\n",
        "    # hint, we want to return true if block_hash.startswith('0' * Blockchain.difficulty)\n",
        "    # AND if block_hash is in fact the hash of our block (maybe use block.compute_hash())\n",
        "    #\n",
        "\n",
        "    def is_valid_proof(self, block, block_hash):\n",
        "        return (block_hash.startswith(\"0\" * self.difficulty)) and (block_hash == block.compute_hash())\n",
        "\n",
        "    # todo define add_block(self, block:Block, proof:str) -> bool\n",
        "    # hints, we probably want to get the previous hash from get_last_block()\n",
        "    # Check if the previous hash matches the previous hash in the block argument.\n",
        "    # Make use of is_valid_proof for block and proof to check if someone is trying to do something sneaky.\n",
        "    # for both of the above, let's return False early and return control the calling function if the block is not valid.\n",
        "    # If we make it this far, we're in the clear. So let's add the hash to our block, append it to the chain,\n",
        "    # and return True.\n",
        "    #\n",
        "\n",
        "    def add_block(self, block, proof):\n",
        "\n",
        "        last_block = self.get_last_block()\n",
        "\n",
        "        if last_block.current_hash != block.pervious_hash:\n",
        "            return False\n",
        "\n",
        "        if not self.is_valid_proof(block, proof):\n",
        "            return False\n",
        "\n",
        "        block.current_hash = proof\n",
        "        self.chain.append(block)\n",
        "\n",
        "        return True\n",
        "\n",
        "    # todo, define add_new_transaction(self, transaction:dict) -> None\n",
        "    # Hint how do we append to a list? How do we do this for a property of our object (self). Ease one line function.    \n",
        "    #\n",
        "\n",
        "    def add_new_transaction(self, transaction):\n",
        "        self.unconfirmed_transactions.append(transaction)\n",
        "\n",
        "    # todo, define mine(self) -> int:\n",
        "    # Hints: do we need to continue if our mempool is empty? Maybe return -1 if so. \n",
        "    # consider retrieving the last block to a local variable make life easy. \n",
        "    # Let's make sure we use our Block constructor to create a new block with all the transactions we want to mine \n",
        "    # (all of them are fine)\n",
        "    # hint: Block(index=last_block.index + 1,\n",
        "    #                    transactions=self.unconfirmed_transactions,\n",
        "    #                    timestamp=time.time(),\n",
        "    #                    previous_hash=last_block.hash)\n",
        "    #\n",
        "\n",
        "    def mine(self):\n",
        "        if len(self.unconfirmed_transactions) < 1:\n",
        "            return -1\n",
        "\n",
        "        last_block = self.get_last_block()\n",
        "        new_block = Block(index=last_block.index + 1,\n",
        "                          transactions=self.unconfirmed_transactions,\n",
        "                          timestamp=int(time.time()),\n",
        "                          pervious_hash=last_block.current_hash,\n",
        "                          )\n",
        "        current_hash = self.proof_of_work(new_block)\n",
        "\n",
        "\n",
        "    # Finally, let's be sure to use our handy proof_of_work function, add_block function, and to remember to reset our\n",
        "    # unconfirmed_transactions (our mem-pool), before returning our new block index;\n",
        "\n",
        "        if not self.add_block(new_block, current_hash):\n",
        "            return -1\n",
        "        \n",
        "        new_block.current_hash = current_hash\n",
        "        self.unconfirmed_transactions = []\n",
        "        return new_block.index\n"
      ],
      "metadata": {
        "id": "oXak7tmnedUb"
      },
      "execution_count": 3,
      "outputs": []
    },
    {
      "cell_type": "code",
      "source": [
        "tx_1 = {\n",
        "   \"addr_from\": \"3J98t1WpEZ73CNmQviecrnyiWrnqRhWNLy\",\n",
        "   \"addr_to\": \"1BvBMSEYstWetqTFn5Au4m4GFg7xJaNVN2\",   \n",
        "   \"amount\": 99.00\n",
        "}\n",
        "tx_2 = {\n",
        "   \"addr_from\": \"3J98t1WpEZ73CNmQviecunyirn8RhWNLy\",\n",
        "   \"addr_to\": \"1BvBMSEYstWetqTFn5AuimdGFg7xJaNVN2\",   \n",
        "   \"amount\": 100.00\n",
        "}\n",
        "tx_3 = {\n",
        "   \"addr_from\": \"0\",\n",
        "   \"addr_to\": \"1\",   \n",
        "   \"amount\": 1000000.00\n",
        "}"
      ],
      "metadata": {
        "id": "11BkeHx5ehZo"
      },
      "execution_count": 4,
      "outputs": []
    },
    {
      "cell_type": "code",
      "source": [
        "bitcoins = Blockchain()\n",
        "bitcoins.chain"
      ],
      "metadata": {
        "colab": {
          "base_uri": "https://localhost:8080/"
        },
        "id": "bzsAM0buejlj",
        "outputId": "02df4781-56cd-4380-bc34-8d9e71bee066"
      },
      "execution_count": 5,
      "outputs": [
        {
          "output_type": "execute_result",
          "data": {
            "text/plain": [
              "[<__main__.Block at 0x7ff90f7ee690>]"
            ]
          },
          "metadata": {},
          "execution_count": 5
        }
      ]
    },
    {
      "cell_type": "code",
      "source": [
        "bitcoins.add_new_transaction([tx_1, tx_2, tx_3])\n",
        "bitcoins.mine()"
      ],
      "metadata": {
        "colab": {
          "base_uri": "https://localhost:8080/"
        },
        "id": "rdtHkLNoenwu",
        "outputId": "f97aa5f8-6e28-4a3f-9726-6a0697d99c35"
      },
      "execution_count": 6,
      "outputs": [
        {
          "output_type": "execute_result",
          "data": {
            "text/plain": [
              "1"
            ]
          },
          "metadata": {},
          "execution_count": 6
        }
      ]
    },
    {
      "cell_type": "code",
      "source": [
        "bitcoins.chain"
      ],
      "metadata": {
        "colab": {
          "base_uri": "https://localhost:8080/"
        },
        "id": "LZdqdC4teozq",
        "outputId": "1ffdbf7b-f7e2-487c-907b-085a2da5062d"
      },
      "execution_count": 7,
      "outputs": [
        {
          "output_type": "execute_result",
          "data": {
            "text/plain": [
              "[<__main__.Block at 0x7ff90f7ee690>, <__main__.Block at 0x7ff90f7ee350>]"
            ]
          },
          "metadata": {},
          "execution_count": 7
        }
      ]
    }
  ]
}